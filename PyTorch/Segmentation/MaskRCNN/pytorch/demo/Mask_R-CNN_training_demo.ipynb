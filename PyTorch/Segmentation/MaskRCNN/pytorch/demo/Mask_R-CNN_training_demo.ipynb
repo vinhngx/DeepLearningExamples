{
 "cells": [
  {
   "cell_type": "markdown",
   "metadata": {},
   "source": [
    "# Mask R-CNN Training Demo"
   ]
  },
  {
   "cell_type": "markdown",
   "metadata": {},
   "source": [
    "This notebook demonstrates the steps for training Mask R-CNN models. \n",
    "Mask R-CNN is a convolution-based neural network for the task of object instance segmentation. The original paper describing the model can be found [here](https://arxiv.org/abs/1703.06870). NVIDIA’s Mask R-CNN is an optimized version of [Facebook’s implementation](https://github.com/facebookresearch/maskrcnn-benchmark), leveraging mixed precision arithmetic and tensor cores for faster training times while maintaining comparable accuracy with single precision, i.e. FP32, training.\n",
    "\n",
    "## Notebook  Content\n",
    "1. [Pre-requisite: data](#1)\n",
    "1. [Pre-requisite: container](#2)\n",
    "1. [Training](#3)\n",
    "1. [Testing trained model](#4)\n"
   ]
  },
  {
   "cell_type": "markdown",
   "metadata": {},
   "source": [
    "<a id=\"2\"></a>\n",
    "## 1. Pre-requisite: data\n",
    "\n",
    "This notebook demonstrates training and validation or the Mask R-CNN model on the [COCO 2014 dataset](http://cocodataset.org/#download). If not already available locally, the following [script](../../download_dataset.sh) in this repository provides a convinient way to download and extract all the necessary data in one go:\n",
    "\n",
    "```\n",
    "./download_dataset.sh /path/to/coco-2014\n",
    "```\n",
    "\n",
    "This script can be ran on a Linux host machine. Be mindful of the size of the raw data (~20GB). The script makes use of `wget` and will automatically resume if disrupted. Once downloaded, the scrip invoke `dtrx` to extract the data. The final data directory should look like:\n",
    "\n",
    "```\n",
    "/path/to/coco-2014\n",
    "  annotations/\n",
    "    instances_train2014.json\n",
    "    instances_val2014.json\n",
    "  train2014/\n",
    "    COCO_train2014_*.jpg\n",
    "  val2014/\n",
    "    COCO_val2014_*.jpg\n",
    "```"
   ]
  },
  {
   "cell_type": "markdown",
   "metadata": {},
   "source": [
    "<a id=\"2\"></a>\n",
    "## 2. Pre-requisite: container"
   ]
  },
  {
   "cell_type": "markdown",
   "metadata": {},
   "source": [
    "The most convinient way to make use of the NVIDIA Mask R-CNN model is via a docker container, which provides a self-contained, isolated and re-producible environment for all experiments. First, clone the repository:\n",
    "\n",
    "```\n",
    "git clone https://github.com/NVIDIA/DeepLearningExamples.git\n",
    "cd DeepLearningExamples/PyTorch/Segmentation/MaskRCNN\n",
    "```\n",
    "\n",
    "Next, build the NVIDIA Mask R-CNN container:\n",
    "\n",
    "```\n",
    "cd pytorch/docker/docker-jupyter\n",
    "docker build --rm -t nvidia_maskrcnn_jupyter .\n",
    "```\n",
    "\n",
    "Then launch the container with:\n",
    "\n",
    "```\n",
    "PATH_TO_COCO='/path/to/coco-2014'\n",
    "MOUNT_LOCATION='/datasets/data'\n",
    "NAME='maskrcnn_jupyter'\n",
    "\n",
    "docker run --runtime=nvidia -p 8888:8888 -v $PATH_TO_COCO:/$MOUNT_LOCATION --rm --name=$NAME --shm-size=1g --ulimit memlock=-1 --ulimit stack=67108864 --ipc=host nvidia_maskrcnn_jupyter\n",
    "```\n",
    "\n",
    "Open the Jupyter GUI interfact on your host machine at http://localhost:8888. The default password is empty.\n",
    "\n",
    "We verify that the data has been properly downloaded and mounted."
   ]
  },
  {
   "cell_type": "code",
   "execution_count": 3,
   "metadata": {},
   "outputs": [
    {
     "name": "stdout",
     "output_type": "stream",
     "text": [
      "total 20012368\r\n",
      "drwxr-xr-x 2 218419156 1876110778        4096 Jun  3 04:53 annotations\r\n",
      "drwxr-xr-x 2 root      root              4096 Jun  3 04:53 annotations.1\r\n",
      "-rw-rw-r-- 1      1002       1002   252872794 Jul 10  2018 annotations_trainval2014.zip\r\n",
      "-rw-rw-r-- 1      1002       1002    77061279 Dec 21 05:20 coco_annotations_minival.tgz\r\n",
      "drwxrwxr-x 2 root      root           4763648 Aug 15  2014 train2014\r\n",
      "-rw-rw-r-- 1      1002       1002 13510573713 Jul 11  2018 train2014.zip\r\n",
      "drwxrwxr-x 2 root      root           2351104 Aug 15  2014 val2014\r\n",
      "-rw-rw-r-- 1      1002       1002  6645013297 Jul 11  2018 val2014.zip\r\n"
     ]
    }
   ],
   "source": [
    "!ls /datasets/data -l"
   ]
  },
  {
   "cell_type": "markdown",
   "metadata": {},
   "source": [
    "<a id=\"3\"></a>\n",
    "## 3. Training"
   ]
  },
  {
   "cell_type": "markdown",
   "metadata": {},
   "source": [
    "The bash script [bash scripts](../scripts/train.sh) provides a convinient interface to "
   ]
  },
  {
   "cell_type": "code",
   "execution_count": null,
   "metadata": {},
   "outputs": [],
   "source": []
  }
 ],
 "metadata": {
  "kernelspec": {
   "display_name": "Python 3",
   "language": "python",
   "name": "python3"
  },
  "language_info": {
   "codemirror_mode": {
    "name": "ipython",
    "version": 3
   },
   "file_extension": ".py",
   "mimetype": "text/x-python",
   "name": "python",
   "nbconvert_exporter": "python",
   "pygments_lexer": "ipython3",
   "version": "3.6.8"
  }
 },
 "nbformat": 4,
 "nbformat_minor": 2
}
